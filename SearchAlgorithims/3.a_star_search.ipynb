{
 "cells": [
  {
   "attachments": {},
   "cell_type": "markdown",
   "metadata": {},
   "source": [
    "## Graph class"
   ]
  },
  {
   "cell_type": "code",
   "execution_count": 13,
   "metadata": {},
   "outputs": [],
   "source": [
    "class Vertex:\n",
    "    def __init__(self, name, distance):\n",
    "        self.name = name\n",
    "        self.neighbors = []\n",
    "        self.visited = False\n",
    "        self.adjacents = []\n",
    "        self.distance = distance\n",
    "\n",
    "    def add_adjacent(self, adjacent):\n",
    "        self.adjacents.append(adjacent)\n",
    "\n",
    "    def show_adjacents(self):\n",
    "        for i in self.adjacents:\n",
    "            print(i.vertex.name, i.cost, end='\\n')"
   ]
  },
  {
   "cell_type": "code",
   "execution_count": 14,
   "metadata": {},
   "outputs": [],
   "source": [
    "class Adjascent:\n",
    "    def __init__(self, vertex, cost):\n",
    "        self.vertex = vertex\n",
    "        self.cost = cost\n",
    "        self.distance = vertex.distance + cost"
   ]
  },
  {
   "cell_type": "code",
   "execution_count": 15,
   "metadata": {},
   "outputs": [],
   "source": [
    "class Graph:\n",
    "    # This graph class will be used do insert the cities we want to visit\n",
    "    # and the cost of the travel between them\n",
    "    arad = Vertex('Arad', 366)\n",
    "    zerind = Vertex('Zerind', 374)\n",
    "    oradea = Vertex('Oradea', 380)\n",
    "    sibiu = Vertex('Sibiu', 253)\n",
    "    timisoara = Vertex('Timisoara', 329)\n",
    "    lugoj = Vertex('Lugoj', 244)\n",
    "    mehadia = Vertex('Mehadia', 241)\n",
    "    dobreta = Vertex('Dobreta', 242)\n",
    "    craiova = Vertex('Craiova', 160)\n",
    "    rimnicu = Vertex('Rimnicu', 193)\n",
    "    fagaras = Vertex('Fagaras', 176)\n",
    "    pitesti = Vertex('Pitesti', 100)\n",
    "    bucharest = Vertex('Bucharest', 0)\n",
    "    giurgiu = Vertex('Giurgiu', 77)\n",
    "\n",
    "    arad.add_adjacent(Adjascent(zerind, 75))\n",
    "    arad.add_adjacent(Adjascent(sibiu, 140))\n",
    "    arad.add_adjacent(Adjascent(timisoara, 118))\n",
    "\n",
    "    zerind.add_adjacent(Adjascent(arad, 75))\n",
    "    zerind.add_adjacent(Adjascent(oradea, 71))\n",
    "\n",
    "    oradea.add_adjacent(Adjascent(zerind, 71))\n",
    "    oradea.add_adjacent(Adjascent(sibiu, 151))\n",
    "\n",
    "    sibiu.add_adjacent(Adjascent(oradea, 151))\n",
    "    sibiu.add_adjacent(Adjascent(arad, 140))\n",
    "    sibiu.add_adjacent(Adjascent(fagaras, 99))\n",
    "    sibiu.add_adjacent(Adjascent(rimnicu, 80))\n",
    "\n",
    "    timisoara.add_adjacent(Adjascent(arad, 118))\n",
    "    timisoara.add_adjacent(Adjascent(lugoj, 111))\n",
    "\n",
    "    lugoj.add_adjacent(Adjascent(timisoara, 111))\n",
    "    lugoj.add_adjacent(Adjascent(mehadia, 70))\n",
    "\n",
    "    mehadia.add_adjacent(Adjascent(lugoj, 70))\n",
    "    mehadia.add_adjacent(Adjascent(dobreta, 75))\n",
    "\n",
    "    dobreta.add_adjacent(Adjascent(mehadia, 75))\n",
    "    dobreta.add_adjacent(Adjascent(craiova, 120))\n",
    "\n",
    "    craiova.add_adjacent(Adjascent(dobreta, 120))\n",
    "    craiova.add_adjacent(Adjascent(pitesti, 138))\n",
    "    craiova.add_adjacent(Adjascent(rimnicu, 146))\n",
    "\n",
    "    rimnicu.add_adjacent(Adjascent(craiova, 146))\n",
    "    rimnicu.add_adjacent(Adjascent(sibiu, 80))\n",
    "    rimnicu.add_adjacent(Adjascent(pitesti, 97))\n",
    "\n",
    "    fagaras.add_adjacent(Adjascent(sibiu, 99))\n",
    "    fagaras.add_adjacent(Adjascent(bucharest, 211))\n",
    "\n",
    "    pitesti.add_adjacent(Adjascent(rimnicu, 97))\n",
    "    pitesti.add_adjacent(Adjascent(craiova, 138))\n",
    "    pitesti.add_adjacent(Adjascent(bucharest, 101))\n",
    "\n",
    "    bucharest.add_adjacent(Adjascent(fagaras, 211))\n",
    "    bucharest.add_adjacent(Adjascent(pitesti, 101))\n",
    "    bucharest.add_adjacent(Adjascent(giurgiu, 90))"
   ]
  },
  {
   "cell_type": "code",
   "execution_count": 16,
   "metadata": {},
   "outputs": [
    {
     "name": "stdout",
     "output_type": "stream",
     "text": [
      "Zerind 75\n",
      "Sibiu 140\n",
      "Timisoara 118\n",
      "-------------------\n",
      "Fagaras 211\n",
      "Pitesti 101\n",
      "Giurgiu 90\n"
     ]
    }
   ],
   "source": [
    "graph = Graph()\n",
    "\n",
    "graph.arad.show_adjacents()\n",
    "print('-------------------')\n",
    "graph.bucharest.show_adjacents()"
   ]
  },
  {
   "cell_type": "code",
   "execution_count": 17,
   "metadata": {},
   "outputs": [],
   "source": [
    "import numpy as np\n",
    "# Now we have a graph with all the cities and the cost of the travel between them\n",
    "# We will use this graph to implement the greedy search algorithm\n",
    "\n",
    "# Let's recreate the ordenaded vector class\n",
    "class OrdenatedVector:\n",
    "    def __init__(self, capacity):\n",
    "        self.capacity = capacity\n",
    "        self.last_position = -1\n",
    "        # we changed the type of the vector to object, so we can insert any type of data\n",
    "        self.values = np.empty(self.capacity, dtype=object)\n",
    "\n",
    "    def insert(self, value):\n",
    "        if self.last_position == self.capacity - 1:\n",
    "            print('Capacity full')\n",
    "            return\n",
    "        position = 0\n",
    "        for i in range(self.last_position + 1):\n",
    "            position = i\n",
    "            if self.values[i].distance > value.distance:\n",
    "                break\n",
    "            if i == self.last_position:\n",
    "                position = i + 1\n",
    "        x = self.last_position\n",
    "        while x >= position:\n",
    "            self.values[x + 1] = self.values[x]\n",
    "            x -= 1\n",
    "        self.values[position] = value\n",
    "        self.last_position += 1\n",
    "\n",
    "    def show(self):\n",
    "        if self.last_position == -1:\n",
    "            print('Empty vector')\n",
    "        else:\n",
    "            for i in range(self.last_position + 1):\n",
    "                print(i, ' - ', self.values[i].vertex.name, ' - ',\n",
    "                        self.values[i].cost, ' - ',\n",
    "                        self.values[i].vertex.distance, ' - ',\n",
    "                        self.values[i].distance)"
   ]
  },
  {
   "cell_type": "code",
   "execution_count": 18,
   "metadata": {},
   "outputs": [
    {
     "name": "stdout",
     "output_type": "stream",
     "text": [
      "Empty vector\n",
      "0  -  Sibiu  -  140  -  253  -  393\n",
      "1  -  Timisoara  -  118  -  329  -  447\n",
      "2  -  Zerind  -  75  -  374  -  449\n"
     ]
    }
   ],
   "source": [
    "# lets test\n",
    "vector = OrdenatedVector(5)\n",
    "vector.show()\n",
    "\n",
    "vector.insert(graph.arad.adjacents[0])\n",
    "vector.insert(graph.arad.adjacents[1])\n",
    "vector.insert(graph.arad.adjacents[2])\n",
    "\n",
    "vector.show()"
   ]
  },
  {
   "attachments": {},
   "cell_type": "markdown",
   "metadata": {},
   "source": [
    "## Implementation\n",
    "\n",
    "Our goal here is to go from Arad to Bucharest "
   ]
  },
  {
   "cell_type": "code",
   "execution_count": 19,
   "metadata": {},
   "outputs": [],
   "source": [
    "class AStarSeach:\n",
    "    def __init__(self, objective):\n",
    "        self.find = False\n",
    "        self.objective = objective\n",
    "\n",
    "    def search(self, actual):\n",
    "        print('----------------')\n",
    "        print('Actual: {}'.format(actual.name))\n",
    "        actual.visited = True\n",
    "\n",
    "        if actual == self.objective:\n",
    "            self.find = True\n",
    "        else:\n",
    "            vector = OrdenatedVector(len(actual.adjacents))\n",
    "            for adjascent in actual.adjacents:\n",
    "                if adjascent.vertex.visited == False:\n",
    "                    adjascent.vertex.visited = True\n",
    "                    vector.insert(adjascent)\n",
    "            vector.show()\n",
    "\n",
    "            if vector.values[0] != None:\n",
    "                self.search(vector.values[0].vertex)"
   ]
  },
  {
   "cell_type": "code",
   "execution_count": 20,
   "metadata": {},
   "outputs": [
    {
     "name": "stdout",
     "output_type": "stream",
     "text": [
      "----------------\n",
      "Actual: Arad\n",
      "0  -  Sibiu  -  140  -  253  -  393\n",
      "1  -  Timisoara  -  118  -  329  -  447\n",
      "2  -  Zerind  -  75  -  374  -  449\n",
      "----------------\n",
      "Actual: Sibiu\n",
      "0  -  Rimnicu  -  80  -  193  -  273\n",
      "1  -  Fagaras  -  99  -  176  -  275\n",
      "2  -  Oradea  -  151  -  380  -  531\n",
      "----------------\n",
      "Actual: Rimnicu\n",
      "0  -  Pitesti  -  97  -  100  -  197\n",
      "1  -  Craiova  -  146  -  160  -  306\n",
      "----------------\n",
      "Actual: Pitesti\n",
      "0  -  Bucharest  -  101  -  0  -  101\n",
      "----------------\n",
      "Actual: Bucharest\n"
     ]
    }
   ],
   "source": [
    "astar = AStarSeach(graph.bucharest)\n",
    "astar.search(graph.arad)"
   ]
  }
 ],
 "metadata": {
  "kernelspec": {
   "display_name": "Python 3",
   "language": "python",
   "name": "python3"
  },
  "language_info": {
   "codemirror_mode": {
    "name": "ipython",
    "version": 3
   },
   "file_extension": ".py",
   "mimetype": "text/x-python",
   "name": "python",
   "nbconvert_exporter": "python",
   "pygments_lexer": "ipython3",
   "version": "3.11.3"
  },
  "orig_nbformat": 4
 },
 "nbformat": 4,
 "nbformat_minor": 2
}
