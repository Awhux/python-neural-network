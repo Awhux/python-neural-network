{
 "cells": [
  {
   "cell_type": "code",
   "execution_count": null,
   "metadata": {},
   "outputs": [],
   "source": [
    "import numpy as np"
   ]
  },
  {
   "cell_type": "code",
   "execution_count": null,
   "metadata": {},
   "outputs": [],
   "source": [
    "# Create a class to represent an ordenaded vector\n",
    "# This class will be used to implement the binary search\n",
    "\n",
    "class OrdenadedVector:\n",
    "    # Constructor\n",
    "    def __init__(self, capacity):\n",
    "        # Define the capacity of the vector\n",
    "        self.capacity = capacity\n",
    "        # Define the last position of the vector\n",
    "        self.last_position = -1\n",
    "        # Define the vector\n",
    "        self.values = np.empty(self.capacity, dtype=int)\n",
    "\n",
    "    # Insert a value in the vector\n",
    "    def insert(self, value):\n",
    "        # Check if the vector is full\n",
    "        if self.last_position == self.capacity - 1:\n",
    "            print('Capacity reached')\n",
    "            return\n",
    "        # Find the position to insert the value\n",
    "        position = 0\n",
    "        for i in range(self.last_position + 1):\n",
    "            position = i\n",
    "            if self.values[i] > value:\n",
    "                break\n",
    "            if i == self.last_position:\n",
    "                position = i + 1\n",
    "        # Shift the values to the right\n",
    "        x = self.last_position\n",
    "        while x >= position:\n",
    "            self.values[x + 1] = self.values[x]\n",
    "            x -= 1\n",
    "        # Insert the value\n",
    "        self.values[position] = value\n",
    "        # Update the last position\n",
    "        self.last_position += 1\n",
    "\n",
    "    # Print the vector\n",
    "    def print(self):\n",
    "        if self.last_position == -1:\n",
    "            print('Empty vector')\n",
    "        else:\n",
    "            for i in range(self.last_position + 1):\n",
    "                print(i, ' - ', self.values[i])"
   ]
  },
  {
   "cell_type": "code",
   "execution_count": null,
   "metadata": {},
   "outputs": [],
   "source": [
    "# So, let's recap:\n",
    "# This class will do the following:\n",
    "# 1. Create a vector with a given capacity\n",
    "# 2. Insert a value in the vector\n",
    "# 3. Print the vector\n",
    "\n",
    "# Let's test the class\n",
    "vector = OrdenadedVector(5)\n",
    "vector.print()\n",
    "\n",
    "# Should print:\n",
    "# Empty vector"
   ]
  },
  {
   "cell_type": "code",
   "execution_count": null,
   "metadata": {},
   "outputs": [],
   "source": [
    "vector.insert(5)\n",
    "vector.insert(3)\n",
    "vector.insert(2)\n",
    "\n",
    "vector.print()\n",
    "\n",
    "# Should print:\n",
    "# 0  -  2\n",
    "# 1  -  3\n",
    "# 2  -  5"
   ]
  },
  {
   "cell_type": "code",
   "execution_count": null,
   "metadata": {},
   "outputs": [],
   "source": [
    "vector.insert(10)\n",
    "vector.insert(1)\n",
    "vector.insert(4)\n",
    "\n",
    "vector.print()\n",
    "\n",
    "# Should print:\n",
    "# 0  -  1\n",
    "# 1  -  2\n",
    "# 2  -  3\n",
    "# 4  -  5\n",
    "# 5  -  10"
   ]
  },
  {
   "cell_type": "code",
   "execution_count": null,
   "metadata": {},
   "outputs": [],
   "source": [
    "# The vector is working as expected\n",
    "# But this class has a little problem, its complexity is O(n)\n",
    "# This means that the time to insert a value in the vector is proportional to the size of the vector\n",
    "# If the vector has 1000 elements, the time to insert a value will be 1000 times bigger than if the vector had 1 element\n",
    "# Lets measure the time to insert a value in the vector"
   ]
  }
 ],
 "metadata": {
  "kernelspec": {
   "display_name": "Python 3",
   "language": "python",
   "name": "python3"
  },
  "language_info": {
   "codemirror_mode": {
    "name": "ipython",
    "version": 3
   },
   "file_extension": ".py",
   "mimetype": "text/x-python",
   "name": "python",
   "nbconvert_exporter": "python",
   "pygments_lexer": "ipython3",
   "version": "3.11.3"
  },
  "orig_nbformat": 4
 },
 "nbformat": 4,
 "nbformat_minor": 2
}
